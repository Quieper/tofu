{
 "cells": [
  {
   "cell_type": "code",
   "execution_count": 1,
   "metadata": {},
   "outputs": [],
   "source": [
    "import pandas as pd"
   ]
  },
  {
   "cell_type": "code",
   "execution_count": 17,
   "metadata": {},
   "outputs": [],
   "source": [
    "def get_amount_missing():\n",
    "    df = pd.DataFrame(list(zip(text, sentiment, frame, topic)), columns=['Text', 'Sentiment', 'Frame', 'Topic'])\n",
    "    print(len(df[df.Frame.isna()]))\n",
    "    return df"
   ]
  },
  {
   "cell_type": "code",
   "execution_count": 18,
   "metadata": {},
   "outputs": [
    {
     "name": "stdout",
     "output_type": "stream",
     "text": [
      "1431\n"
     ]
    }
   ],
   "source": [
    "df = pd.read_excel('Train.xlsx')\n",
    "print(len(df[df.Frame.isna()]))\n",
    "topic = list(df.Topic)\n",
    "sentiment = list(df.Sentiment)\n",
    "text = list(df.Text)\n",
    "frame = list(df.Frame)"
   ]
  },
  {
   "cell_type": "code",
   "execution_count": 19,
   "metadata": {},
   "outputs": [],
   "source": [
    "for i in range(len(df)):\n",
    "    if type(frame[i]) == float and 'health' in text[i]:\n",
    "        frame[i] = 'health'\n",
    "    elif type(frame[i]) == float and 'environment' in text[i]:\n",
    "        frame[i] = 'environmental'\n",
    "    elif type(frame[i]) == float and 'economic' in text[i]:\n",
    "        frame[i] = 'economic'"
   ]
  },
  {
   "cell_type": "code",
   "execution_count": 20,
   "metadata": {},
   "outputs": [
    {
     "name": "stdout",
     "output_type": "stream",
     "text": [
      "1306\n"
     ]
    }
   ],
   "source": [
    "df = get_amount_missing()"
   ]
  },
  {
   "cell_type": "code",
   "execution_count": 21,
   "metadata": {},
   "outputs": [],
   "source": [
    "for i in range(len(df)):\n",
    "    if type(frame[i]) == float and 'vaccin' in text[i]:\n",
    "        frame[i] = 'health'\n",
    "    elif type(frame[i]) == float and 'drinking water' in text[i]:\n",
    "        frame[i] = 'health'\n",
    "    elif type(frame[i]) == float and 'abundant' in text[i]:\n",
    "        frame[i] = 'economic'"
   ]
  },
  {
   "cell_type": "code",
   "execution_count": 22,
   "metadata": {},
   "outputs": [
    {
     "name": "stdout",
     "output_type": "stream",
     "text": [
      "1236\n"
     ]
    }
   ],
   "source": [
    "df = get_amount_missing()"
   ]
  },
  {
   "cell_type": "code",
   "execution_count": 23,
   "metadata": {},
   "outputs": [],
   "source": [
    "for i in range(len(df)):\n",
    "    if type(frame[i]) == float and 'rising temperatures' in text[i]:\n",
    "        frame[i] = 'environmental'\n",
    "    elif type(frame[i]) == float and 'pollution' in text[i]:\n",
    "        frame[i] = 'environmental'\n",
    "    elif type(frame[i]) == float and 'technically recoverable' in text[i]:\n",
    "        frame[i] = 'economic'"
   ]
  },
  {
   "cell_type": "code",
   "execution_count": 24,
   "metadata": {},
   "outputs": [
    {
     "name": "stdout",
     "output_type": "stream",
     "text": [
      "1227\n"
     ]
    }
   ],
   "source": [
    "df = get_amount_missing()"
   ]
  },
  {
   "cell_type": "code",
   "execution_count": 25,
   "metadata": {},
   "outputs": [],
   "source": [
    "df.to_excel('Train - clean + some lf.xlsx')"
   ]
  }
 ],
 "metadata": {
  "kernelspec": {
   "display_name": "Python 3",
   "language": "python",
   "name": "python3"
  },
  "language_info": {
   "codemirror_mode": {
    "name": "ipython",
    "version": 3
   },
   "file_extension": ".py",
   "mimetype": "text/x-python",
   "name": "python",
   "nbconvert_exporter": "python",
   "pygments_lexer": "ipython3",
   "version": "3.6.9"
  }
 },
 "nbformat": 4,
 "nbformat_minor": 4
}
