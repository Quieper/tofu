{
 "cells": [
  {
   "cell_type": "code",
   "execution_count": 1,
   "metadata": {},
   "outputs": [],
   "source": [
    "import glob\n",
    "import pandas as pd"
   ]
  },
  {
   "cell_type": "code",
   "execution_count": 2,
   "metadata": {},
   "outputs": [],
   "source": [
    "def excel_to_seperate_txts(filename, folder):\n",
    "    df = pd.read_excel(filename)\n",
    "    pos = 0\n",
    "    neg = 0\n",
    "    for i, row in df.iterrows():\n",
    "        if row['Sentiment'] == 0.:\n",
    "            label = 'neg'\n",
    "            neg += 1\n",
    "            file = open('{}/{}/{}.txt'.format(folder,label,neg),'w')\n",
    "        else:\n",
    "            label = 'pos'\n",
    "            pos += 1\n",
    "            file = open('{}/{}/{}.txt'.format(folder,label,pos),'w')\n",
    "        \n",
    "        file.write(row['Text'])\n",
    "        file.close()  "
   ]
  },
  {
   "cell_type": "code",
   "execution_count": 3,
   "metadata": {},
   "outputs": [],
   "source": [
    "files = glob.glob('*.xlsx')\n",
    "excel_to_seperate_txts(files[0], 'train')\n",
    "excel_to_seperate_txts(files[1], 'test')"
   ]
  }
 ],
 "metadata": {
  "kernelspec": {
   "display_name": "Python 3",
   "language": "python",
   "name": "python3"
  },
  "language_info": {
   "codemirror_mode": {
    "name": "ipython",
    "version": 3
   },
   "file_extension": ".py",
   "mimetype": "text/x-python",
   "name": "python",
   "nbconvert_exporter": "python",
   "pygments_lexer": "ipython3",
   "version": "3.6.9"
  }
 },
 "nbformat": 4,
 "nbformat_minor": 4
}
