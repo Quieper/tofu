{
 "cells": [
  {
   "cell_type": "code",
   "execution_count": 2,
   "metadata": {},
   "outputs": [],
   "source": [
    "import glob\n",
    "import pandas as pd\n",
    "import os\n",
    "import glob"
   ]
  },
  {
   "cell_type": "code",
   "execution_count": 3,
   "metadata": {},
   "outputs": [],
   "source": [
    "def clear_data(folder):\n",
    "    files = glob.glob('{}/pos/*'.format(folder)) + glob.glob('{}/neg/*'.format(folder))\n",
    "    print\n",
    "    for file in files:\n",
    "        try:\n",
    "            os.remove(file)\n",
    "        except:\n",
    "            print('{} could not be removed')\n",
    "    \n",
    "def excel_to_seperate_txts(filename, folder):\n",
    "    df = pd.read_excel(filename)\n",
    "    pos = 0\n",
    "    neg = 0\n",
    "    for i, row in df.iterrows():\n",
    "        if row['Sentiment'] == 0.:\n",
    "            label = 'neg'\n",
    "            neg += 1\n",
    "            file = open('{}/{}/{}.txt'.format(folder,label,neg),'w')\n",
    "        else:\n",
    "            label = 'pos'\n",
    "            pos += 1\n",
    "            file = open('{}/{}/{}.txt'.format(folder,label,pos),'w')\n",
    "        \n",
    "        file.write(row['Text'])\n",
    "        file.close()  "
   ]
  },
  {
   "cell_type": "code",
   "execution_count": 5,
   "metadata": {},
   "outputs": [
    {
     "name": "stdout",
     "output_type": "stream",
     "text": [
      "['../../TOFU/Train - clean.xlsx', '../../TOFU/Test - clean.xlsx']\n"
     ]
    }
   ],
   "source": [
    "files = glob.glob('../../TOFU/*.xlsx')\\\n",
    "clear_data('train')\n",
    "excel_to_seperate_txts(files[0], 'train')\n",
    "clear_data('test')\n",
    "excel_to_seperate_txts(files[1], 'test')"
   ]
  }
 ],
 "metadata": {
  "kernelspec": {
   "display_name": "Python 3",
   "language": "python",
   "name": "python3"
  },
  "language_info": {
   "codemirror_mode": {
    "name": "ipython",
    "version": 3
   },
   "file_extension": ".py",
   "mimetype": "text/x-python",
   "name": "python",
   "nbconvert_exporter": "python",
   "pygments_lexer": "ipython3",
   "version": "3.6.9"
  }
 },
 "nbformat": 4,
 "nbformat_minor": 4
}
