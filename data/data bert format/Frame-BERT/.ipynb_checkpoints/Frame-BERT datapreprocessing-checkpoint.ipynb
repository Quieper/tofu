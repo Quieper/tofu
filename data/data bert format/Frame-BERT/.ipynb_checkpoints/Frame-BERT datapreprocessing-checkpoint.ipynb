{
 "cells": [
  {
   "cell_type": "code",
   "execution_count": 1,
   "metadata": {},
   "outputs": [],
   "source": [
    "import glob\n",
    "import pandas as pd\n",
    "import os\n",
    "import glob"
   ]
  },
  {
   "cell_type": "code",
   "execution_count": 2,
   "metadata": {},
   "outputs": [],
   "source": [
    "def clear_data(folder):\n",
    "    files = glob.glob('{}/health/*'.format(folder)) \\\n",
    "            + glob.glob('{}/economic/*'.format(folder)) \\\n",
    "            + glob.glob('{}/environment/*'.format(folder))\n",
    "    print\n",
    "    for file in files:\n",
    "        try:\n",
    "            os.remove(file)\n",
    "        except:\n",
    "            print('{} could not be removed')\n",
    "    \n",
    "def excel_to_seperate_txts(filename, folder):\n",
    "    df = pd.read_excel(filename)\n",
    "    eco = 0\n",
    "    env = 0\n",
    "    hea = 0\n",
    "    for i, row in df.iterrows():\n",
    "        if row['Frame'] == 'economic':\n",
    "            label = 'economic'\n",
    "            eco += 1\n",
    "            file = open('{}/{}/{}.txt'.format(folder,label,eco),'w')\n",
    "        elif row['Frame'] == 'health':\n",
    "            label = 'health'\n",
    "            hea += 1\n",
    "            file = open('{}/{}/{}.txt'.format(folder,label,hea),'w')\n",
    "        elif 'environment' in row['Frame']:\n",
    "            label = 'environment'\n",
    "            env += 1\n",
    "            file = open('{}/{}/{}.txt'.format(folder,label,env),'w')\n",
    "        else:\n",
    "            print(row, i, folder)\n",
    "        \n",
    "        file.write(row['Text'])\n",
    "        file.close()  "
   ]
  },
  {
   "cell_type": "code",
   "execution_count": 3,
   "metadata": {},
   "outputs": [],
   "source": [
    "files = glob.glob('../../Frame/*.xlsx')\n",
    "clear_data('train')\n",
    "excel_to_seperate_txts(files[0], 'train')\n",
    "clear_data('test')\n",
    "excel_to_seperate_txts(files[1], 'test')"
   ]
  }
 ],
 "metadata": {
  "kernelspec": {
   "display_name": "Python 3",
   "language": "python",
   "name": "python3"
  },
  "language_info": {
   "codemirror_mode": {
    "name": "ipython",
    "version": 3
   },
   "file_extension": ".py",
   "mimetype": "text/x-python",
   "name": "python",
   "nbconvert_exporter": "python",
   "pygments_lexer": "ipython3",
   "version": "3.6.9"
  }
 },
 "nbformat": 4,
 "nbformat_minor": 4
}
