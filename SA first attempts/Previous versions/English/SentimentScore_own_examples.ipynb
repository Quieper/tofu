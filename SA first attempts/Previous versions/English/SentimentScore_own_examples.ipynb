{
 "cells": [
  {
   "cell_type": "code",
   "execution_count": 18,
   "metadata": {},
   "outputs": [],
   "source": [
    "from nltk.sentiment.vader import SentimentIntensityAnalyzer\n",
    "from nltk import tokenize"
   ]
  },
  {
   "cell_type": "code",
   "execution_count": 66,
   "metadata": {},
   "outputs": [],
   "source": [
    "def SentimentScore(paragraph, weight=1):\n",
    "    sentences = []\n",
    "    lines_list = tokenize.sent_tokenize(paragraph)\n",
    "    sentences.extend(lines_list)\n",
    "    sid = SentimentIntensityAnalyzer()\n",
    "    sentiment = 0\n",
    "    for sentence in sentences:\n",
    "        ss = sid.polarity_scores(sentence)\n",
    "        sentiment += ss['compound']*weight\n",
    "    print(\"Total sentiment: \", sentiment)\n",
    "    print(\"Average sentiment: \", sentiment/len(sentences))"
   ]
  },
  {
   "cell_type": "code",
   "execution_count": 76,
   "metadata": {},
   "outputs": [],
   "source": [
    "shell_schalie_gas = \"We are safely tapping into resources of natural gas, known as tight and shale gas, \\\n",
    "which are held deep inside rock. These huge resources of natural gas, the cleanest-burning hydrocarbon,\\\n",
    "have the potential to create an energy supply revolution around the world helping to meet growing energy demand.\\\n",
    "Traditionally most natural gas has come from rock formations that, once drilled, allow the gas to flow freely. \\\n",
    "But supplies of this easy-to-access gas are declining. Many of the remaining vast gas resources lie trapped \\\n",
    "tightly in dense rock, inside pores up to 20,000 times narrower than a human hair. Called tight and shale gas, \\\n",
    "these resources were previously considered too costly or difficult to access, yet the overall volume of \\\n",
    "available gas can be much higher than in conventional gas reservoirs. We use advanced technology to help gain \\\n",
    "access, contributing to global growth in natural gas production. Shell has decades of production experience \\\n",
    "with tight gas – in the USA and Canada, the North Sea, and mainland Europe. Over time we have found ways to \\\n",
    "safely develop the fields and produce the gas with greater efficiency, lowering costs and limiting our \\\n",
    "environmental impact. Producing tight and shale gas. At all our tight gas operations, we use a \\\n",
    "technique known as hydraulic fracturing to break open rock and release natural gas. \\\n",
    "This involves pumping fluids into the well bore at high pressure. The fluids comprise around 99% sand and \\\n",
    "water, with 1% chemicals added to help the gas flow more freely.Fracturing typically takes place a kilometre \\\n",
    "or more (thousands of feet) below drinking water supplies. We insert concrete and steel barriers into the \\\n",
    "wells to prevent any drilling or fracturing fluids from entering into local water supplies. \\\n",
    "Shell started producing tight gas in the early 1950s in south Texas. Today we produce enough natural gas \\\n",
    "in North America to meet the energy needs of millions of homes. We are also exploring for tight oil and gas \\\n",
    "in locations in the USA, Canada, and Argentina. Building on our experience in North America, we are \\\n",
    "developing tight and shale gas operations in other locations. In China, we are partnering with PetroChina \\\n",
    "to produce enough tight gas a year at the Changbei field to meet around 20% of Beijing’s annual gas needs, \\\n",
    "and we are exploring for more resources in other parts of the country. In Australia, we acquired Arrow Energy \\\n",
    "in 2010 in a joint deal with PetroChina, to produce another form of tight gas called coalbed methane \\\n",
    "natural gas found in coal seams.\""
   ]
  },
  {
   "cell_type": "code",
   "execution_count": 83,
   "metadata": {},
   "outputs": [
    {
     "name": "stdout",
     "output_type": "stream",
     "text": [
      "Total sentiment:  41.946999999999996\n",
      "Average sentiment:  2.207736842105263\n"
     ]
    }
   ],
   "source": [
    "SentimentScore(shell_schalie_gas, 10)"
   ]
  },
  {
   "cell_type": "code",
   "execution_count": 49,
   "metadata": {},
   "outputs": [],
   "source": [
    "eu_shale_gas = \"Unconventional hydrocarbons are resources found in reservoirs with geological characteristics \\\n",
    "and locations different from those where oil and gas are usually produced. They include: natural gas from shale \\\n",
    "formations (shale gas), natural gas from coal seams (coalbed methane), crude oil from shale formations or other \\\n",
    "formations with low permeability (tight oil or shale oil). Extraction and fracking. Unconventional hydrocarbons, \\\n",
    "such as shale gas, could contribute to the EU's security of supply and competitiveness, but there are public \\\n",
    "concerns over their extraction, which is generally more difficult than extracting from conventional sources. \\\n",
    "The extraction of shale gas, for instance, requires the drilling of additional wells and is using techniques \\\n",
    "such as hydraulic fracturing (also called “fracking”) – opening up fissures in the  rock by using large \\\n",
    "quantities of water under high pressure, mixed with sand and other additives in order to release the gas. \\\n",
    "The EU is working to ensure that the such extraction is done with proper environmental and climate safeguards. \\\n",
    "Future potential. Shale gas has widely been considered to be the unconventional fossil fuel with the greatest \\\n",
    "potential for development in Europe. To further explore, the European Commission and the Geological Surveys of \\\n",
    "Europe (EGS) conducted a pan-European assessment, which also includes Ukraine, of unconventional gas and oil \\\n",
    "resources. The project, called the European Unconventional Oil and Gas Assessment (EUOGA), took place from \\\n",
    "September 2015 to March 2017. By identifying and bridging gaps from previous assessments, the project provides \\\n",
    "a broad European scale of basin-by-basin resource potential that can serve as a common basis to make informed\\\n",
    "decisions at the social, political and industrial level. The estimation of shale gas resources in place amounts\\\n",
    "to 89 trillion cube meters (tcm), with the corresponding estimate for shale oil in place set to 31 billion \\\n",
    "barrels (bbl), using a so called P50 estimate – a median value that indicates at least a 50% probability that\\\n",
    "the existing resource base would be equal to or exceed the best estimate. At present, it is uncertain how much\\\n",
    "of the estimated resources could be recovered, both in a technical and economic sense, as shale gas has not been \\\n",
    "widely used for commercial purposes in the EU. A full report on the resource assessment of shale gas and shale \\\n",
    "oil was published by the Joint Research Centre (JRC) in February 2017, within the framework of the EUOGA research\\\n",
    "project on unconventional hydrocarbons. EU countries have adopted different policies towards shale gas, ranging \\\n",
    "from the banning of hydraulic fracturing in France and Bulgaria to explanatory drillings and hydraulic fracturing\\\n",
    "tests in Poland. Although some countries have previously expressed a strong interest in exploring shale gas \\\n",
    "resources, the United Kingdom is the only country in Europe where companies pursue such efforts. Environment \\\n",
    "and climate concerns. The Commission is committed to the environmental integrity of unconventional hydrocarbons,\\\n",
    "and has undertaken a series of measures to ensure that extraction is done in a safe, responsible and \\\n",
    "environmentally friendly way. Of key significance is the issued recommendation from January 2014 for \\\n",
    "EU countries when creating or adapting legislation related to hydraulic fracturing, which was accompanied \\\n",
    "by a communication outlining opportunities and challenges stemming from shale gas extraction in Europe, as \\\n",
    "well as an impact assessment on the socio-economic and environmental impacts. To further address concerns, \\\n",
    "the European science and technology network on unconventional hydrocarbons was established in 2014 to collect,\\\n",
    "analyse and review results from shale gas exploration projects in the EU, including the development of \\\n",
    "technologies used in unconventional oil and gas projects. The network concluded its work in 2016.\""
   ]
  },
  {
   "cell_type": "code",
   "execution_count": 82,
   "metadata": {},
   "outputs": [
    {
     "name": "stdout",
     "output_type": "stream",
     "text": [
      "Total sentiment:  38.141\n",
      "Average sentiment:  1.8162380952380952\n"
     ]
    }
   ],
   "source": [
    "SentimentScore(eu_shale_gas, 10)"
   ]
  },
  {
   "cell_type": "code",
   "execution_count": 78,
   "metadata": {},
   "outputs": [],
   "source": [
    "greenpeace_fracking = \" With ‘easy to reach’ oil and gas running out, fracking has been pushed as a way to plug \\\n",
    "the gap. But climate change means we can’t afford to dig up yet more polluting fuels. We need to switch to \\\n",
    "renewable energy instead. Fracking – or, to give its technical term, hydraulic fracturing – is a process to get \\\n",
    "at oil and gas contained within shale rocks. Water, sand and a cocktail of chemicals are blasted deep \\\n",
    "underground to release the oil or gas trapped within the rocks. As reserves of more conventional oil and \\\n",
    "gas have dwindled, fracking is seen as a way of extracting even more of these polluting fuels. This has led to \\\n",
    "a fracking boom in the US, which the UK and other countries are keen to copy. But energy experts say that much \\\n",
    "of the gas we’ve already found needs to stay in the ground. Otherwise we won’t be able to meet our emission \\\n",
    "reduction targets and limit the effects of climate change. So it doesn’t make sense to go after even more, \\\n",
    "especially as fracked fuels can be even more damaging to the climate than regular oil and gas. That’s because \\\n",
    "fracking uses more energy to extract it than conventional oil and gas, and because fracked gas appears to \\\n",
    "leak more into the atmosphere. Gas itself is a greenhouse gas so the overall climate impact it produces is \\\n",
    "greater. Fracking has so many problems. Not only is fracking bad for our climate, it risks causing air, water \\\n",
    "and sound pollution. It uses toxic chemicals where regulation may not be adequate. An accident could mean \\\n",
    "that these chemicals leak into water supplies or cause pollution above ground. In fact, this has happened \\\n",
    "many times in the US. The UK government claims that our tighter environmental laws will stop this from \\\n",
    "happening, but fracking companies like Cuadrilla will be largely responsible for monitoring themselves. \\\n",
    "Allowing the fracking industry to be self-regulating is asking for trouble. On top of all this, the impact \\\n",
    "on the British countryside could be enormous. Thousands of wells will be needed to produce just half of the \\\n",
    "UK’s gas demand. This industrial operation would also require huge numbers of trucks delivering chemicals \\\n",
    "and taking away contaminated waste water. Fracking has been banned in our national parks, but companies are \\\n",
    "trying to get round this by using other techniques such as acid drilling. And Greenpeace investigations have \\\n",
    "shown that nearly 180,000 acres of protected land are included in drilling licences. Fracking won’t even \\\n",
    "bring down our energy bills because the way the energy market works means any gas from fracking will be \\\n",
    "sold to the highest bidder, which won’t help reduce bills. People don’t want it. People living near potential \\\n",
    "fracking sites have said loud and clear that they don’t want drilling in their local area. Attempts to drill \\\n",
    "in Sussex and Lancashire have been met with strong local opposition, while Scotland and Wales have \\\n",
    "effectively banned fracking. Yet ministers in Westminster continue to support it. The local government \\\n",
    "secretary overturned a vote by Lancashire County Council refusing permission for Cuadrilla to drill there. \\\n",
    "And in 2018, three people were jailed for peacefully protesting Cuadrilla’s trucks. Although they were \\\n",
    "released on appeal, they are believed to have been the first environmental protesters to receive prison \\\n",
    "sentences since the 1990s. The government is determined to force fracking on us, despite polls showing \\\n",
    "public opinion is dead set against. Experts have also said that economic, political and geological \\\n",
    "factors mean it will be impossible to replicate the US fracking boom elsewhere in the world. In fact, \\\n",
    "other countries such as Poland and China are running into problems with their attempts. Instead of \\\n",
    "chasing after yet more fossil fuels, our government should be investing in renewable energy to help \\\n",
    "reduce emissions and tackle climate change. We’ll continue to push for clean energy solutions and support \\\n",
    "the protesters fighting to keep fracking out of our countryside.\""
   ]
  },
  {
   "cell_type": "code",
   "execution_count": 84,
   "metadata": {},
   "outputs": [
    {
     "name": "stdout",
     "output_type": "stream",
     "text": [
      "Total sentiment:  -0.6370000000000022\n",
      "Average sentiment:  -0.017216216216216277\n"
     ]
    }
   ],
   "source": [
    "SentimentScore(greenpeace_fracking, 10)"
   ]
  },
  {
   "cell_type": "code",
   "execution_count": 85,
   "metadata": {},
   "outputs": [],
   "source": [
    "fracking_is_dangerous = \"Fracking Is Dangerous To Your Health -- Here's Why. Fracking, or drilling for gas by hydraulic fracturing, has been associated with a growing number of health risks. Last week, I began this series looking at some of the hazardous chemicals injected into the wells to make drilling easier and cheaper, and the growing risks to our health by the GOP rushing through the approval of Scott Pruitt to head the Environmental Protection Agency (EPA). Judy Eckert holding water contaminated with arsenic drawn from her private well. In 2007 Guardian Exploration drilled and fracked a Marcellus well 450ft from her home, which she believes is part of the cause of her contaminated her water supply. In 2010 DEP found a waste pit buried illegally into her season high water table. To learn more about her case you can donate to receive a copy of Triple Divide — a Public Herald documentary on fracking. Judy Eckert holding water contaminated with arsenic drawn from her private well. In 2007 Guardian Exploration drilled and fracked a Marcellus well 450ft from her home, which she believes is part of the cause of her contaminated her water supply. In 2010 DEP found a waste pit buried illegally into her season high water table. To learn more about her case you can donate to receive a copy of Triple Divide — a Public Herald documentary on fracking. This post looks in greater depth at the health problems linked to fracking. These are not hypothetical concerns—there are now more than 700 studies looking at risks—and more than 80% of the health studies document risks or actual harms. It’s also important to note that these risks are likely to be seriously underestimated, because the environmental agencies have been downplaying the risks to the public. A new in-depth exposé from investigative journalists at Public Herald looks in-depth at the Pennsylvania Department of Environmental Protection’s (DEP) misconduct and negligence, as the DEP studiously ignored citizens’ complaints, sometimes not even testing water samples. Earlier studies from ProPublica and others showed similar EPA failures in the western U.S. A variety of health problems are associated with fracking. Respiratory problems: Cough, shortness of breath and wheezing are the most common complaints of residents living near fracked wells. Toxic gases like benzene are released from the rock by fracking. Similarly, a toxic waste brew of water and chemicals is often stored in open pits, releasing volatile organic compounds into the air. These noxious chemicals and particulates are also released by the diesel powered pumps used to inject the water. An epidemiological study of more than 400,000 patients of Pennsylvania’s Geisinger clinic, done with Johns Hopkins School of Public Health, found a significant association between fracking and increases in mild, moderate and severe cases of asthma (odds ratios 4.4 to 1.5). Hopkins’ Dr. Brian Schwartz cautions that residents should be aware of this hazard as “some ‘pristine’ rural areas are converted to heavily trafficked industrial areas.” Problems during pregnancy: Fracking chemicals are harmful to pregnant women and their developing babies. West Virginia researchers found endocrine-disrupting chemicals in surface waters near wastewater disposal sites; these types of chemicals can hurt the developing fetus even when present at very low concentrations. Another Hopkins/Geisinger study looked at records of almost 11,000 women with newborns who lived near fracking sites and found a 40% increased chance of having a premature baby and a 30% risk of having the pregnancy be classified as “high-risk,” though they controlled for socioeconomic status and other risk factors. Contributing factors likely include air and water pollution, stress from the noise and traffic (1,000 tankers/well on average). Premature babies accounted for 35% of infant deaths in 2010. In addition to the personal toll on the families, preemies are very expensive for society—prematurity is a major cause of neurologic disabilities in kids, and their cost of care was more the $26 billion in 2005 alone, or $51,600 per preemie. Cost to employers during the infant’s first year of life averaged $46,004—more than tenfold higher than for a full-term delivery. [Note that if the Affordable Care Act is repealed, women may once again be denied health insurance for pregnancies and a premature baby will likely never be granted health insurance. According to the March of Dimes, Medicaid expansion of health insurance to low-income citizens helped the percentage of babies born as preemies drop to a low level of 11.4% in 2013.] Noise, stress and sleep deprivation. Other studies have found that the noise from the drilling itself, the gas compressors, other heavy equipment and the truck traffic is high enough to disturb sleep, cause stress and increase high blood pressure. Longer-term exposure to noise pollution contributes to endocrine abnormalities and diabetes, heart disease, stress and depression, and has been linked to learning difficulties in children. Sleep deprivation has pervasive public health consequences, from causing accidents to chronic diseases. Another epidemiologic study from University of Pennsylvania and Columbia University compared the hospitalization rates between a county with active fracking and a neighboring county without. This study found that fracking well density was significantly associated with higher inpatient hospitalization for cardiac or neurologic problems. There was also an association between skin conditions, cancer and urologic problems and the proximity of homes to active wells. Spills and accidents. With disturbing frequency, new spills or accidents are reported at the same time as industry tries to reassure that fracking brings safe and clean energy. Tell that to the residents of Dimock, Pa., who have had their drinking water destroyed, or those in many other communities. A newly released study found 6,648 spills in just four states over the past 10 years. Once again, the EPA had reported a far lower number—457 in eight states over a six-year period. Why the huge difference? Because the EPA chose to only look at the actual fracturing stage, rather than the whole life cycle of the gas and oil production. The DeSmogBlog notes that just this month, the day after U.S. Army Corps of Engineers gave the owners of the Dakota Access Pipeline (DAPL) the final permit it needed to build across Lake Oahe (threatening the Standing Rock Sioux tribe’s land and water), a pipeline of a DAPL co-owner exploded near New Orleans, killing one and injuring others. Aging pipelines pose special risks as they deteriorate. An ExxonMobil pipeline built in 1947 spilled 134,000 gallons of gas in Arkansas. You can see the location and magnitude of the spills at this handy interactive from the National Center for Ecological Analysis and Synthesis (NCEAS) Science for Nature and People Partnership (SNAPP). Another disturbing data viz shows the type of spill and whether water was impacted. Map of unconventional oil and gas spills in Pennsylvania - courtesy SNAPP partnership. Map of unconventional oil and gas spills in Pennsylvania -- courtesy SNAPP partnership. Click on the image to explore interactive with type of spill and much more detail. But new fracking has additional risks, as the conventional pipes often used are unable to withstand the high pressure of the fracking mixture being injected. In fact, new wells were not safer, and 6% of unconventional (fracked) wells drilled since 2000 showed problems, with even the Pa. DEP (shown by Public Herald to not be thorough in investigating citizens' complaints, nor entirely forthcoming) confirming more than 100 contaminated drinking water wells. Conclusion. The oil and gas industry says that these health problems are not proven to be caused by fracking. That is partially true—especially since agencies like the Pa. DEP have actively hidden complaints or even failed to test the water of residents, as Public Herald reported. With the new head of the EPA, Scott Pruitt, determined to dismantle the agency and its protections, we will likely never have definitive proof. Some health problems, such as cancer and some neurologic problems, also take years to develop after an exposure. Fracking profits go to private industry but the public—families and communities—bear the costs of the many health complications from the drilling. There is growing evidence of a variety of health problems being associated with fracking. Common sense dictates that drinking and breathing cancer-causing agents will take their toll. The correlation is too strong to ignore, especially when we have other, cleaner energy options. For our safety and that of future generations, we should not allow the new administration to sell off public lands, nor allow drilling on our land, and should ban fracking completely.\""
   ]
  },
  {
   "cell_type": "code",
   "execution_count": 88,
   "metadata": {},
   "outputs": [
    {
     "name": "stdout",
     "output_type": "stream",
     "text": [
      "Total sentiment:  -101.49999999999993\n",
      "Average sentiment:  -1.585937499999999\n"
     ]
    }
   ],
   "source": [
    "SentimentScore(fracking_is_dangerous, 10)"
   ]
  }
 ],
 "metadata": {
  "kernelspec": {
   "display_name": "Python 3",
   "language": "python",
   "name": "python3"
  },
  "language_info": {
   "codemirror_mode": {
    "name": "ipython",
    "version": 3
   },
   "file_extension": ".py",
   "mimetype": "text/x-python",
   "name": "python",
   "nbconvert_exporter": "python",
   "pygments_lexer": "ipython3",
   "version": "3.6.9"
  }
 },
 "nbformat": 4,
 "nbformat_minor": 2
}
