{
 "cells": [
  {
   "cell_type": "code",
   "execution_count": 1,
   "metadata": {},
   "outputs": [],
   "source": [
    "import pandas as pd\n",
    "import numpy as np\n",
    "\n",
    "from string import digits\n",
    "\n",
    "# import nltk\n",
    "from nltk import word_tokenize\n",
    "from nltk.util import ngrams"
   ]
  },
  {
   "cell_type": "code",
   "execution_count": 2,
   "metadata": {},
   "outputs": [],
   "source": [
    "# only for loading in text from a word file\n",
    "def get_text(doc_name):\n",
    "    remove_digits = str.maketrans('', '', digits)\n",
    "    paragraphs = docx.Document(doc_name).paragraphs\n",
    "    par_text = [paragraph.text.replace('\\xa0', ' ') for paragraph in paragraphs]\n",
    "    text = par_text[0]\n",
    "    for i in range(1, len(par_text)):\n",
    "        par = par_text[i]\n",
    "        if par:\n",
    "            text += ' ' + par\n",
    "    return text.lower().translate(remove_digits)"
   ]
  },
  {
   "cell_type": "code",
   "execution_count": 3,
   "metadata": {},
   "outputs": [],
   "source": [
    "test_doc = get_text('Test.docx')"
   ]
  },
  {
   "cell_type": "code",
   "execution_count": 4,
   "metadata": {},
   "outputs": [],
   "source": [
    "def neg(bucket):\n",
    "    if bucket < 4:\n",
    "        return bucket + 4\n",
    "    else:\n",
    "        return bucket - 4\n",
    "    \n",
    "def remove_nan(l):\n",
    "    return [x for x in l if not pd.isnull(x)]\n",
    "\n",
    "def bin_of_words(filename):\n",
    "    df = pd.read_excel(filename)\n",
    "    return [sorted(list(set(remove_nan(df[col].values)))) for col in df.columns]\n",
    "\n",
    "def sentiment_scores(document):\n",
    "    bins_of_words = bin_of_words('BINS - version 2.xlsx')\n",
    "    negators = ['no', 'not', 'lack', 'never', 'none', 'neither', 'nobody', 'few', 'hardly',\\\n",
    "            'little', 'rarely', 'scarcely', 'seldom',]\n",
    "    i = 0    \n",
    "    \n",
    "    word_matrix = np.empty((1, len(bins_of_words)), dtype=object)\n",
    "    for j in range(len(bins_of_words)):\n",
    "        if str(word_matrix[i][j]) == 'None':\n",
    "            word_matrix[i][j] = []\n",
    "        bucket = bins_of_words[j]\n",
    "        for word in bucket:\n",
    "            if word in document:\n",
    "                for _ in range(document.count(word)):\n",
    "                    tmp = word_matrix[i][j].copy()\n",
    "                    tmp.append(word)\n",
    "                    word_matrix[i][j] = tmp\n",
    "\n",
    "    negated = []\n",
    "    token = word_tokenize(document)\n",
    "    bigrams = ngrams(token,2)\n",
    "    trigrams = ngrams(token,3)\n",
    "    for gram in bigrams:\n",
    "        if gram[0] in negators:\n",
    "            negated.append(gram[1])\n",
    "    for gram in trigrams:\n",
    "        if gram[0] in negators:\n",
    "            negated.append(gram[2])\n",
    "            negated.append(gram[1] + ' ' + gram[2])\n",
    "            \n",
    "    rows = [0,4]\n",
    "    for word in negated:\n",
    "        for j in rows:\n",
    "            if word in word_matrix[i][j]:\n",
    "                tmp = word_matrix[i][j].copy()\n",
    "                tmp.pop(tmp.index(word))\n",
    "                word_matrix[i][j] = tmp\n",
    "\n",
    "                j2 = neg(j)\n",
    "                tmp2 = word_matrix[i][j2].copy()\n",
    "                tmp2.append(word)\n",
    "                word_matrix[i][j2] = tmp2 \n",
    "                break\n",
    "                \n",
    "    score_matrix = np.zeros((1, len(bins_of_words)))\n",
    "    for j in range(len(bins_of_words)):\n",
    "        score_matrix[i][j] = len(word_matrix[i][j])\n",
    "    \n",
    "    positive = score_matrix[i][0]\n",
    "    negative = score_matrix[i][4]\n",
    "    total_sentiment = positive - negative\n",
    "\n",
    "    economic = score_matrix[i][1] \n",
    "    health = score_matrix[i][2] \n",
    "    environment = score_matrix[i][3]\n",
    "    total_topic =  economic + health + environment\n",
    "    if total_sentiment > 0:\n",
    "        sen_score = total_sentiment/positive\n",
    "    elif total_sentiment < 0:\n",
    "        sen_score = total_sentiment/negative\n",
    "    elif total_sentiment == 0:\n",
    "        sen_score = 0\n",
    "\n",
    "    sentiment_score = round(sen_score / 2,2)\n",
    "    total_economic = round(economic/total_topic,2)\n",
    "    total_health = round(health/total_topic,2)\n",
    "    total_environmental = round(environment/total_topic,2)\n",
    "    return sentiment_score, total_economic, total_health, total_environmental"
   ]
  },
  {
   "cell_type": "code",
   "execution_count": 7,
   "metadata": {},
   "outputs": [
    {
     "name": "stdout",
     "output_type": "stream",
     "text": [
      " Sentiment score = 0.01\n",
      "\n",
      "  Ecocomic score = 0.32\n",
      "    Health score = 0.54\n",
      "Evironment score = 0.14\n"
     ]
    }
   ],
   "source": [
    "sentiment, economic, health, environment = sentiment_scores(test_doc)\n",
    "print(\" Sentiment score = {}\\n\".format(sentiment))\n",
    "print(\"  Ecocomic score = {}\".format(economic))\n",
    "print(\"    Health score = {}\".format(health))\n",
    "print(\"Evironment score = {}\".format(environment))"
   ]
  },
  {
   "cell_type": "markdown",
   "metadata": {},
   "source": [
    "Bins of words column structure\n",
    "\n",
    "1: Dream \n",
    "\n",
    "2: Economic\n",
    "\n",
    "3: Health\n",
    "\n",
    "4: Environment\n",
    "\n",
    "5: Nightmare"
   ]
  }
 ],
 "metadata": {
  "kernelspec": {
   "display_name": "Python 3",
   "language": "python",
   "name": "python3"
  },
  "language_info": {
   "codemirror_mode": {
    "name": "ipython",
    "version": 3
   },
   "file_extension": ".py",
   "mimetype": "text/x-python",
   "name": "python",
   "nbconvert_exporter": "python",
   "pygments_lexer": "ipython3",
   "version": "3.6.9"
  }
 },
 "nbformat": 4,
 "nbformat_minor": 2
}
