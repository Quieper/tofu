{
 "cells": [
  {
   "cell_type": "code",
   "execution_count": 1,
   "metadata": {},
   "outputs": [
    {
     "name": "stderr",
     "output_type": "stream",
     "text": [
      "/home/roguehydra/.local/lib/python3.6/site-packages/IPython/utils/traitlets.py:5: UserWarning: IPython.utils.traitlets has moved to a top-level traitlets package.\n",
      "  warn(\"IPython.utils.traitlets has moved to a top-level traitlets package.\")\n"
     ]
    }
   ],
   "source": [
    "%reload_ext autoreload\n",
    "%autoreload 2\n",
    "\n",
    "import os\n",
    "os.environ[\"CUDA_DEVICE_ORDER\"]=\"PCI_BUS_ID\";\n",
    "os.environ[\"CUDA_VISIBLE_DEVICES\"]=\"0\";\n",
    "\n",
    "import ktrain\n",
    "from ktrain import text\n",
    "import time\n",
    "import pandas as pd"
   ]
  },
  {
   "cell_type": "code",
   "execution_count": 2,
   "metadata": {},
   "outputs": [
    {
     "name": "stdout",
     "output_type": "stream",
     "text": [
      "detected encoding: utf-8\n",
      "preprocessing train...\n",
      "language: en\n",
      "train sequence lengths:\n",
      "\tmean : 53\n",
      "\t95percentile : 155\n",
      "\t99percentile : 280\n"
     ]
    },
    {
     "data": {
      "text/html": [],
      "text/plain": [
       "<IPython.core.display.HTML object>"
      ]
     },
     "metadata": {},
     "output_type": "display_data"
    },
    {
     "name": "stdout",
     "output_type": "stream",
     "text": [
      "preprocessing test...\n",
      "language: en\n",
      "test sequence lengths:\n",
      "\tmean : 35\n",
      "\t95percentile : 92\n",
      "\t99percentile : 152\n"
     ]
    },
    {
     "data": {
      "text/html": [],
      "text/plain": [
       "<IPython.core.display.HTML object>"
      ]
     },
     "metadata": {},
     "output_type": "display_data"
    }
   ],
   "source": [
    "# variables\n",
    "max_len = 100\n",
    "\n",
    "trn, val, preproc = text.texts_from_folder('../../Dataset/Data/Ktrain/TOFU-BERT', \n",
    "                                            maxlen=max_len, \n",
    "                                            preprocess_mode='distilbert',\n",
    "                                            train_test_names=['train', 'test'],\n",
    "                                            classes=['pos', 'neg'])"
   ]
  },
  {
   "cell_type": "code",
   "execution_count": 3,
   "metadata": {},
   "outputs": [
    {
     "name": "stdout",
     "output_type": "stream",
     "text": [
      "Is Multi-Label? False\n",
      "maxlen is 100\n",
      "done.\n"
     ]
    }
   ],
   "source": [
    "model = text.text_classifier('distilbert', train_data=trn, preproc=preproc)\n",
    "learner = ktrain.get_learner(model, train_data=trn, val_data=val, batch_size=6)"
   ]
  },
  {
   "cell_type": "code",
   "execution_count": 10,
   "metadata": {},
   "outputs": [
    {
     "name": "stdout",
     "output_type": "stream",
     "text": [
      "\n",
      "\n",
      "begin training using onecycle policy with max lr of 2e-05...\n",
      "Train for 425 steps, validate for 17 steps\n",
      "425/425 [==============================] - 837s 2s/step - loss: 0.4639 - accuracy: 0.7693 - val_loss: 0.3726 - val_accuracy: 0.8521\n",
      "840.1992373466492\n"
     ]
    }
   ],
   "source": [
    "# 2e-5 is one of the LRs recommended by Google\n",
    "b = time.time()\n",
    "epochs = 1\n",
    "l_r = 2e-5\n",
    "learner.fit_onecycle(l_r, epochs)\n",
    "e = time.time()\n",
    "print(e-b)"
   ]
  },
  {
   "cell_type": "code",
   "execution_count": 24,
   "metadata": {},
   "outputs": [
    {
     "data": {
      "text/html": [],
      "text/plain": [
       "<IPython.core.display.HTML object>"
      ]
     },
     "metadata": {},
     "output_type": "display_data"
    },
    {
     "name": "stdout",
     "output_type": "stream",
     "text": [
      "41.48\n"
     ]
    }
   ],
   "source": [
    "df = pd.read_excel('../../Dataset/Data/TOFU/Test - clean.xlsx')\n",
    "test_x = list(df.Text)\n",
    "test_y = df.Sentiment\n",
    "predictor = ktrain.get_predictor(learner.model, preproc)\n",
    "b = time.time()\n",
    "pred = predictor.predict(test_x)\n",
    "e = time.time()\n",
    "print(round(e-b,2))"
   ]
  },
  {
   "cell_type": "code",
   "execution_count": 31,
   "metadata": {},
   "outputs": [
    {
     "name": "stdout",
     "output_type": "stream",
     "text": [
      "Accuracy: 85.02\n"
     ]
    }
   ],
   "source": [
    "score = 0\n",
    "for i in range(len(test_y)):\n",
    "    if pred[i] == 'pos' and test_y[i] == 1:\n",
    "        score += 1\n",
    "    elif pred[i] == 'neg' and test_y[i] == 0:\n",
    "        score += 1\n",
    "print('Accuracy: {}'.format(round(score/len(test_y)*100,2)))"
   ]
  },
  {
   "cell_type": "code",
   "execution_count": 32,
   "metadata": {},
   "outputs": [],
   "source": [
    "predictor.save('tofu-distilbertpredictor_acc:85%')"
   ]
  },
  {
   "cell_type": "code",
   "execution_count": 37,
   "metadata": {},
   "outputs": [],
   "source": [
    "predictor = ktrain.load_predictor('tofu-distilbertpredictor_acc:85%')"
   ]
  }
 ],
 "metadata": {
  "kernelspec": {
   "display_name": "Python 3",
   "language": "python",
   "name": "python3"
  },
  "language_info": {
   "codemirror_mode": {
    "name": "ipython",
    "version": 3
   },
   "file_extension": ".py",
   "mimetype": "text/x-python",
   "name": "python",
   "nbconvert_exporter": "python",
   "pygments_lexer": "ipython3",
   "version": "3.6.9"
  }
 },
 "nbformat": 4,
 "nbformat_minor": 2
}
