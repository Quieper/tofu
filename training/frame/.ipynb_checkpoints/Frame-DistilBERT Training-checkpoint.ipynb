{
 "cells": [
  {
   "cell_type": "code",
   "execution_count": 1,
   "metadata": {},
   "outputs": [
    {
     "name": "stderr",
     "output_type": "stream",
     "text": [
      "/home/roguehydra/.local/lib/python3.6/site-packages/IPython/utils/traitlets.py:5: UserWarning: IPython.utils.traitlets has moved to a top-level traitlets package.\n",
      "  warn(\"IPython.utils.traitlets has moved to a top-level traitlets package.\")\n"
     ]
    }
   ],
   "source": [
    "%reload_ext autoreload\n",
    "%autoreload 2\n",
    "\n",
    "import os\n",
    "os.environ[\"CUDA_DEVICE_ORDER\"]=\"PCI_BUS_ID\";\n",
    "os.environ[\"CUDA_VISIBLE_DEVICES\"]=\"0\";\n",
    "import pandas as pd\n",
    "import ktrain\n",
    "from ktrain import text\n",
    "import time"
   ]
  },
  {
   "cell_type": "code",
   "execution_count": 2,
   "metadata": {},
   "outputs": [
    {
     "name": "stdout",
     "output_type": "stream",
     "text": [
      "detected encoding: utf-8\n",
      "preprocessing train...\n",
      "language: en\n",
      "train sequence lengths:\n",
      "\tmean : 33\n",
      "\t95percentile : 88\n",
      "\t99percentile : 130\n"
     ]
    },
    {
     "data": {
      "text/html": [],
      "text/plain": [
       "<IPython.core.display.HTML object>"
      ]
     },
     "metadata": {},
     "output_type": "display_data"
    },
    {
     "name": "stdout",
     "output_type": "stream",
     "text": [
      "preprocessing test...\n",
      "language: en\n",
      "test sequence lengths:\n",
      "\tmean : 35\n",
      "\t95percentile : 96\n",
      "\t99percentile : 153\n"
     ]
    },
    {
     "data": {
      "text/html": [],
      "text/plain": [
       "<IPython.core.display.HTML object>"
      ]
     },
     "metadata": {},
     "output_type": "display_data"
    }
   ],
   "source": [
    "# variables\n",
    "max_len = 100\n",
    "\n",
    "trn, val, preproc = text.texts_from_folder('../../data/data frame/Frame-BERT', \n",
    "                                            maxlen=max_len, \n",
    "                                            preprocess_mode='distilbert',\n",
    "                                            train_test_names=['train', 'test'],\n",
    "                                            classes=['environment', 'health', 'economic'])"
   ]
  },
  {
   "cell_type": "code",
   "execution_count": 3,
   "metadata": {},
   "outputs": [
    {
     "name": "stdout",
     "output_type": "stream",
     "text": [
      "Is Multi-Label? False\n",
      "maxlen is 100\n",
      "done.\n",
      "\n",
      "\n",
      "begin training using onecycle policy with max lr of 2e-05...\n",
      "Train for 187 steps, validate for 17 steps\n",
      "187/187 [==============================] - 405s 2s/step - loss: 0.6746 - accuracy: 0.7084 - val_loss: 0.6201 - val_accuracy: 0.7539\n",
      "408.0036885738373\n"
     ]
    }
   ],
   "source": [
    "model = text.text_classifier('distilbert', train_data=trn, preproc=preproc)\n",
    "learner = ktrain.get_learner(model, train_data=trn, val_data=val, batch_size=6)\n",
    "# 2e-5 is one of the LRs recommended by Google\n",
    "b = time.time()\n",
    "epochs = 1\n",
    "l_r = 2e-5\n",
    "learner.fit_onecycle(l_r, epochs)\n",
    "e = time.time()\n",
    "print(e-b)"
   ]
  },
  {
   "cell_type": "code",
   "execution_count": 6,
   "metadata": {},
   "outputs": [
    {
     "data": {
      "text/html": [],
      "text/plain": [
       "<IPython.core.display.HTML object>"
      ]
     },
     "metadata": {},
     "output_type": "display_data"
    },
    {
     "name": "stdout",
     "output_type": "stream",
     "text": [
      "40.73\n"
     ]
    }
   ],
   "source": [
    "df = pd.read_excel('../../Dataset/Data/Frame/Test - clean.xlsx')\n",
    "test_x = list(df.Text)\n",
    "predictor = ktrain.get_predictor(learner.model, preproc)\n",
    "b = time.time()\n",
    "pred = predictor.predict(test_x)\n",
    "e = time.time()\n",
    "print(round(e-b,2))"
   ]
  },
  {
   "cell_type": "code",
   "execution_count": 14,
   "metadata": {},
   "outputs": [
    {
     "name": "stdout",
     "output_type": "stream",
     "text": [
      "Accuracy: 75.39\n"
     ]
    }
   ],
   "source": [
    "score = 0\n",
    "test_y = df.Frame\n",
    "for i in range(len(test_y)):\n",
    "    if pred[i] == 'health' and test_y[i] == 'health':\n",
    "        score += 1\n",
    "    elif pred[i] == 'economic' and test_y[i] == 'economic':\n",
    "        score += 1\n",
    "    elif 'environment' in pred[i] and 'environment' in test_y[i]:\n",
    "        score += 1\n",
    "print('Accuracy: {}'.format(round(score/len(test_y)*100,2)))"
   ]
  }
 ],
 "metadata": {
  "kernelspec": {
   "display_name": "Python 3",
   "language": "python",
   "name": "python3"
  },
  "language_info": {
   "codemirror_mode": {
    "name": "ipython",
    "version": 3
   },
   "file_extension": ".py",
   "mimetype": "text/x-python",
   "name": "python",
   "nbconvert_exporter": "python",
   "pygments_lexer": "ipython3",
   "version": "3.6.9"
  }
 },
 "nbformat": 4,
 "nbformat_minor": 4
}
