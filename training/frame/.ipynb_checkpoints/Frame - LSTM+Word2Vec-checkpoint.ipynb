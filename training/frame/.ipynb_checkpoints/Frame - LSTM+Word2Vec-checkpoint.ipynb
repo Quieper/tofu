{
 "cells": [
  {
   "cell_type": "code",
   "execution_count": 1,
   "metadata": {},
   "outputs": [
    {
     "name": "stderr",
     "output_type": "stream",
     "text": [
      "unable to import 'smart_open.gcs', disabling that module\n",
      "Using TensorFlow backend.\n"
     ]
    }
   ],
   "source": [
    "import numpy as np\n",
    "import pandas as pd\n",
    "import gensim\n",
    "import string\n",
    "import time\n",
    "from keras.layers.recurrent import LSTM\n",
    "from keras.layers.embeddings import Embedding\n",
    "from keras.layers import Dense, Activation\n",
    "from keras.models import Sequential\n",
    "from keras.utils import to_categorical"
   ]
  },
  {
   "cell_type": "code",
   "execution_count": 2,
   "metadata": {},
   "outputs": [],
   "source": [
    "    def word2idx(word):\n",
    "        return word_model.wv.vocab[word].index\n",
    "    def idx2word(idx):\n",
    "        return word_model.wv.index2word[idx]\n",
    "\n",
    "    def sample(preds, temperature=1.0):\n",
    "        if temperature <= 0:\n",
    "            return np.argmax(preds)\n",
    "        preds = np.asarray(preds).astype('float64')\n",
    "        preds = np.log(preds) / temperature\n",
    "        exp_preds = np.exp(preds)\n",
    "        preds = exp_preds / np.sum(exp_preds)\n",
    "        probas = np.random.multinomial(1, preds, 1)\n",
    "        return np.argmax(probas)\n",
    "\n",
    "    def generate_next(text, num_generated=10):\n",
    "        word_idxs = [word2idx(word) for word in text.lower().split()]\n",
    "        for i in range(num_generated):\n",
    "            prediction = model.predict(x=np.array(word_idxs))\n",
    "            idx = sample(prediction[-1], temperature=0.7)\n",
    "            word_idxs.append(idx)\n",
    "        return ' '.join(idx2word(idx) for idx in word_idxs)"
   ]
  },
  {
   "cell_type": "code",
   "execution_count": 3,
   "metadata": {},
   "outputs": [
    {
     "name": "stdout",
     "output_type": "stream",
     "text": [
      "Fetching the text...\n"
     ]
    }
   ],
   "source": [
    "print('Fetching the text...')\n",
    "train = pd.read_excel('../../data/frame/Train - clean.xlsx')\n",
    "test = pd.read_excel('../../data/frame/Test - clean.xlsx')"
   ]
  },
  {
   "cell_type": "code",
   "execution_count": 11,
   "metadata": {},
   "outputs": [],
   "source": [
    "def clean_df(df):\n",
    "    df = df[df.Frame.notna()]\n",
    "    return df[df.Text.notna()]\n",
    "\n",
    "train = clean_df(train)\n",
    "test = clean_df(test)"
   ]
  },
  {
   "cell_type": "code",
   "execution_count": 12,
   "metadata": {},
   "outputs": [
    {
     "name": "stdout",
     "output_type": "stream",
     "text": [
      "\n",
      "Preparing the sentences...\n",
      "Num sentences: 1883\n"
     ]
    }
   ],
   "source": [
    "max_sentence_len = 40\n",
    "\n",
    "def prepare(df):\n",
    "    txt = [[word for word in doc.lower().translate(string.punctuation).split()[:max_sentence_len]] for doc in list(df.Text)]\n",
    "    lab = np.array(list(df.Frame))\n",
    "    lab[lab=='economic'] = 0\n",
    "    lab[lab=='health'] = 1\n",
    "    lab[lab=='environmental'] = 2\n",
    "    lab[lab=='environment'] = 2\n",
    "    return txt, lab\n",
    "\n",
    "train_txt, train_y = prepare(train)\n",
    "test_txt, test_y = prepare(test)\n",
    "print('\\nPreparing the sentences...')\n",
    "print('Num sentences:', len(train_txt)+len(test_txt))"
   ]
  },
  {
   "cell_type": "code",
   "execution_count": 13,
   "metadata": {},
   "outputs": [
    {
     "name": "stdout",
     "output_type": "stream",
     "text": [
      "\n",
      "Training word2vec...\n",
      "Result embedding shape: (9849, 100)\n"
     ]
    }
   ],
   "source": [
    "print('\\nTraining word2vec...')\n",
    "word_model = gensim.models.Word2Vec(train_txt+test_txt, size=100, min_count=1, window=5, iter=100)\n",
    "pretrained_weights = word_model.wv.vectors\n",
    "vocab_size, embedding_size = pretrained_weights.shape\n",
    "print('Result embedding shape:', pretrained_weights.shape)"
   ]
  },
  {
   "cell_type": "code",
   "execution_count": 14,
   "metadata": {},
   "outputs": [
    {
     "name": "stdout",
     "output_type": "stream",
     "text": [
      "\n",
      "Preparing the data for LSTM...\n",
      "train_x shape: (1367, 40)\n",
      "train_y shape: (1367,)\n",
      "test_x shape: (516, 40)\n",
      "test_y shape: (516,)\n"
     ]
    }
   ],
   "source": [
    "print('\\nPreparing the data for LSTM...')\n",
    "def prepare_lstm(txts):\n",
    "    x = np.zeros([len(txts), max_sentence_len], dtype=np.int32)\n",
    "    for i, sentence in enumerate(txts):\n",
    "        for t, word in enumerate(sentence):\n",
    "            x[i, t] = word2idx(word)\n",
    "    return x\n",
    "\n",
    "train_x = prepare_lstm(train_txt)\n",
    "print('train_x shape:', train_x.shape)\n",
    "print('train_y shape:', train_y.shape)\n",
    "\n",
    "test_x = prepare_lstm(test_txt)\n",
    "print('test_x shape:', test_x.shape)\n",
    "print('test_y shape:', test_y.shape)"
   ]
  },
  {
   "cell_type": "code",
   "execution_count": 20,
   "metadata": {},
   "outputs": [
    {
     "name": "stdout",
     "output_type": "stream",
     "text": [
      "\n",
      "Training LSTM...\n"
     ]
    },
    {
     "name": "stderr",
     "output_type": "stream",
     "text": [
      "/home/roguehydra/.local/lib/python3.6/site-packages/tensorflow_core/python/framework/indexed_slices.py:433: UserWarning: Converting sparse IndexedSlices to a dense Tensor of unknown shape. This may consume a large amount of memory.\n",
      "  \"Converting sparse IndexedSlices to a dense Tensor of unknown shape. \"\n"
     ]
    },
    {
     "name": "stdout",
     "output_type": "stream",
     "text": [
      "Train on 1367 samples, validate on 516 samples\n",
      "Epoch 1/15\n",
      "1367/1367 [==============================] - 5s 3ms/step - loss: 0.4036 - accuracy: 0.5450 - val_loss: 0.8557 - val_accuracy: 0.3275\n",
      "Epoch 2/15\n",
      "1367/1367 [==============================] - 3s 2ms/step - loss: 0.2881 - accuracy: 0.6496 - val_loss: 0.8879 - val_accuracy: 0.3372\n",
      "Epoch 3/15\n",
      "1367/1367 [==============================] - 3s 2ms/step - loss: 0.2570 - accuracy: 0.6891 - val_loss: 0.7394 - val_accuracy: 0.3488\n",
      "Epoch 4/15\n",
      "1367/1367 [==============================] - 3s 2ms/step - loss: 0.2233 - accuracy: 0.7308 - val_loss: 0.7665 - val_accuracy: 0.3818\n",
      "Epoch 5/15\n",
      "1367/1367 [==============================] - 3s 2ms/step - loss: 0.1950 - accuracy: 0.7769 - val_loss: 0.7306 - val_accuracy: 0.3740\n",
      "Epoch 6/15\n",
      "1367/1367 [==============================] - 3s 2ms/step - loss: 0.1588 - accuracy: 0.8105 - val_loss: 0.7785 - val_accuracy: 0.4050\n",
      "Epoch 7/15\n",
      "1367/1367 [==============================] - 3s 2ms/step - loss: 0.1245 - accuracy: 0.8500 - val_loss: 0.8547 - val_accuracy: 0.4496\n",
      "Epoch 8/15\n",
      "1367/1367 [==============================] - 3s 2ms/step - loss: 0.0935 - accuracy: 0.8990 - val_loss: 0.7702 - val_accuracy: 0.4438\n",
      "Epoch 9/15\n",
      "1367/1367 [==============================] - 3s 2ms/step - loss: 0.0707 - accuracy: 0.9320 - val_loss: 0.8150 - val_accuracy: 0.4399\n",
      "Epoch 10/15\n",
      "1367/1367 [==============================] - 3s 2ms/step - loss: 0.0542 - accuracy: 0.9495 - val_loss: 0.7396 - val_accuracy: 0.4399\n",
      "Epoch 11/15\n",
      "1367/1367 [==============================] - 3s 2ms/step - loss: 0.0359 - accuracy: 0.9707 - val_loss: 0.7941 - val_accuracy: 0.4380\n",
      "Epoch 12/15\n",
      "1367/1367 [==============================] - 3s 2ms/step - loss: 0.0257 - accuracy: 0.9817 - val_loss: 0.8250 - val_accuracy: 0.4283\n",
      "Epoch 13/15\n",
      "1367/1367 [==============================] - 3s 2ms/step - loss: 0.0220 - accuracy: 0.9846 - val_loss: 0.9838 - val_accuracy: 0.4554\n",
      "Epoch 14/15\n",
      "1367/1367 [==============================] - 3s 2ms/step - loss: 0.0216 - accuracy: 0.9861 - val_loss: 0.7774 - val_accuracy: 0.4419\n",
      "Epoch 15/15\n",
      "1367/1367 [==============================] - 3s 2ms/step - loss: 0.0160 - accuracy: 0.9927 - val_loss: 0.8553 - val_accuracy: 0.4380\n",
      "Elapsed time: 42.63 \n"
     ]
    }
   ],
   "source": [
    "print('\\nTraining LSTM...')\n",
    "model = Sequential()\n",
    "model.add(Embedding(input_dim=vocab_size, output_dim=embedding_size, weights=[pretrained_weights]))\n",
    "model.add(LSTM(units=embedding_size, return_sequences=True))\n",
    "model.add(LSTM(units=embedding_size, return_sequences=True))\n",
    "model.add(LSTM(units=embedding_size))\n",
    "model.add(Dense(units=1, activation='relu'))\n",
    "model.compile(optimizer='adam', loss='mean_squared_error', metrics=['accuracy'])\n",
    "\n",
    "b = time.time()\n",
    "model.fit(train_x, train_y,\n",
    "          validation_data=(test_x, test_y),\n",
    "          batch_size=128,\n",
    "          epochs=15)\n",
    "e = time.time()\n",
    "print('Elapsed time: {} '.format(round(e-b,2)))"
   ]
  },
  {
   "cell_type": "code",
   "execution_count": 21,
   "metadata": {},
   "outputs": [
    {
     "name": "stdout",
     "output_type": "stream",
     "text": [
      "516/516 [==============================] - 0s 722us/step\n",
      "Time elapsed: 0.64s\n",
      "    Accuracy: 43.8%\n"
     ]
    }
   ],
   "source": [
    "_, acc = model.evaluate(test_x, test_y)\n",
    "b = time.time()\n",
    "pred = model.predict(test_x)\n",
    "e = time.time()\n",
    "print('Time elapsed: {}s\\n    Accuracy: {}%'.format(round(e-b,2),round(acc*100,2)))"
   ]
  }
 ],
 "metadata": {
  "kernelspec": {
   "display_name": "Python 3",
   "language": "python",
   "name": "python3"
  },
  "language_info": {
   "codemirror_mode": {
    "name": "ipython",
    "version": 3
   },
   "file_extension": ".py",
   "mimetype": "text/x-python",
   "name": "python",
   "nbconvert_exporter": "python",
   "pygments_lexer": "ipython3",
   "version": "3.6.9"
  }
 },
 "nbformat": 4,
 "nbformat_minor": 4
}
