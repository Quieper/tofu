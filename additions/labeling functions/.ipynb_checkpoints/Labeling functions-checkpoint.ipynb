{
 "cells": [
  {
   "cell_type": "code",
   "execution_count": 1,
   "metadata": {},
   "outputs": [],
   "source": [
    "import pandas as pd\n",
    "import glob\n",
    "import re\n",
    "import snorkel\n",
    "\n",
    "from textblob import TextBlob\n",
    "\n",
    "from snorkel.labeling import labeling_function\n",
    "from snorkel.labeling import PandasLFApplier\n",
    "from snorkel.labeling import LabelModel, MajorityLabelVoter"
   ]
  },
  {
   "cell_type": "code",
   "execution_count": 4,
   "metadata": {},
   "outputs": [
    {
     "name": "stdout",
     "output_type": "stream",
     "text": [
      "2549\n"
     ]
    }
   ],
   "source": [
    "df = pd.read_excel('../../data/data tofu/Train - clean.xlsx')\n",
    "df = df.drop('Unnamed: 0', axis=1)\n",
    "df.columns = ['text', 'sen', 'label', 'topic']\n",
    "df = df[df.text.notna()]\n",
    "frame = df.drop(['sen', 'topic'], axis=1)\n",
    "print(len(frame))"
   ]
  },
  {
   "cell_type": "code",
   "execution_count": 5,
   "metadata": {},
   "outputs": [],
   "source": [
    "# Define the label mappings for convenience\n",
    "ABSTAIN = -1\n",
    "ECO = 0\n",
    "HEA = 1\n",
    "ENV = 2"
   ]
  },
  {
   "cell_type": "code",
   "execution_count": 6,
   "metadata": {},
   "outputs": [],
   "source": [
    "regex = re.compile('\\*')\n",
    "bins = pd.read_excel('Bin of words TOFU software 22-12-19.xlsx')\n",
    "eco = list(bins.economic)\n",
    "eco_keywords = [regex.sub('', x) for x in eco if str(x) != 'nan']\n",
    "hea = list(bins.health)\n",
    "hea_keywords = [regex.sub('', x) for x in hea if str(x) != 'nan']\n",
    "env = list(bins.environment)\n",
    "env_keywords = [regex.sub('', x) for x in env if str(x) != 'nan']"
   ]
  },
  {
   "cell_type": "code",
   "execution_count": 111,
   "metadata": {},
   "outputs": [],
   "source": [
    "@labeling_function()\n",
    "def lf_keyword_economic(x):\n",
    "    flag = False\n",
    "    for word in eco_keywords:\n",
    "        if word in x.text.lower():\n",
    "            flag = True\n",
    "            break\n",
    "    return ECO if flag else ABSTAIN\n",
    "\n",
    "@labeling_function()\n",
    "def lf_keyword_health(x):\n",
    "    flag = False\n",
    "    for word in hea_keywords:\n",
    "        if word in x.text.lower():\n",
    "            flag = True\n",
    "            break\n",
    "    return HEA if flag else ABSTAIN\n",
    "\n",
    "@labeling_function()\n",
    "def lf_keyword_environment(x):\n",
    "    flag = False\n",
    "    for word in env_keywords:\n",
    "        if word in x.text.lower():\n",
    "            flag = True\n",
    "            break\n",
    "    return ENV if flag else ABSTAIN"
   ]
  },
  {
   "cell_type": "code",
   "execution_count": 112,
   "metadata": {},
   "outputs": [
    {
     "name": "stderr",
     "output_type": "stream",
     "text": [
      "100%|██████████| 2549/2549 [00:16<00:00, 152.09it/s]\n"
     ]
    }
   ],
   "source": [
    "lfs = [lf_keyword_environment, lf_keyword_health, lf_keyword_economic]\n",
    "\n",
    "# Apply the LFs to the unlabeled training data\n",
    "applier = PandasLFApplier(lfs)\n",
    "L_train = applier.apply(frame)"
   ]
  },
  {
   "cell_type": "code",
   "execution_count": 113,
   "metadata": {},
   "outputs": [],
   "source": [
    "# Train the label model and compute the training labels\n",
    "label_model = MajorityLabelVoter(cardinality=4, verbose=True)\n",
    "label_model.fit(L_train, n_epochs=500, log_freq=50, seed=123)\n",
    "frame[\"label\"] = label_model.predict(L=L_train, tie_break_policy=\"abstain\")"
   ]
  },
  {
   "cell_type": "code",
   "execution_count": 114,
   "metadata": {},
   "outputs": [
    {
     "name": "stdout",
     "output_type": "stream",
     "text": [
      "Amount of labeled paragraphs: 833\n",
      "Amount of paragraphs labeled as economic: 283\n",
      "Amount of paragraphs labeled as health: 476\n",
      "Amount of paragraphs labeled as environmental: 74\n"
     ]
    }
   ],
   "source": [
    "en = len(list(frame[frame.label==2].label))\n",
    "he = len(list(frame[frame.label==1].label))\n",
    "ec = len(list(frame[frame.label==0].label))\n",
    "frame = frame[frame.label != ABSTAIN]\n",
    "print('Amount of labeled paragraphs: {}'.format(len(frame)))\n",
    "print('Amount of paragraphs labeled as economic: {}'.format(ec))\n",
    "print('Amount of paragraphs labeled as health: {}'.format(he))\n",
    "print('Amount of paragraphs labeled as environmental: {}'.format(en))"
   ]
  },
  {
   "cell_type": "code",
   "execution_count": 115,
   "metadata": {},
   "outputs": [],
   "source": [
    "# to file\n",
    "frame.to_excel('../../data/data frame/Train - lf.xlsx')"
   ]
  }
 ],
 "metadata": {
  "kernelspec": {
   "display_name": "Python 3",
   "language": "python",
   "name": "python3"
  },
  "language_info": {
   "codemirror_mode": {
    "name": "ipython",
    "version": 3
   },
   "file_extension": ".py",
   "mimetype": "text/x-python",
   "name": "python",
   "nbconvert_exporter": "python",
   "pygments_lexer": "ipython3",
   "version": "3.6.9"
  }
 },
 "nbformat": 4,
 "nbformat_minor": 4
}
