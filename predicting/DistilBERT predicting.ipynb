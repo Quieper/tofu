{
 "cells": [
  {
   "cell_type": "code",
   "execution_count": 1,
   "metadata": {},
   "outputs": [
    {
     "name": "stderr",
     "output_type": "stream",
     "text": [
      "/home/roguehydra/.local/lib/python3.6/site-packages/IPython/utils/traitlets.py:5: UserWarning: IPython.utils.traitlets has moved to a top-level traitlets package.\n",
      "  warn(\"IPython.utils.traitlets has moved to a top-level traitlets package.\")\n"
     ]
    }
   ],
   "source": [
    "import ktrain\n",
    "import pandas as pd\n",
    "import glob"
   ]
  },
  {
   "cell_type": "code",
   "execution_count": 2,
   "metadata": {},
   "outputs": [],
   "source": [
    "# return the predicted labels\n",
    "def analyse(article):\n",
    "    paragraphs = [par for par in article.split('\\n') if str(par) != '' and len(par)>75]\n",
    "    sentiments = sentiment_model.predict(paragraphs)\n",
    "    frames = frame_model.predict(paragraphs)\n",
    "    eco = get_per(frames, 'economic')\n",
    "    hea = get_per(frames, 'health')\n",
    "    env = get_per(frames, 'environment')\n",
    "    sen_score = get_per(sentiments, 'pos')\n",
    "    return sen_score, eco, hea, env\n",
    "\n",
    "# percentage calculater - probably redundant and more easy to do\n",
    "def get_per(l, n):\n",
    "    try:\n",
    "        tmp = round(l.count(n)/len(l)*100,1)\n",
    "    except:\n",
    "        tmp = 0\n",
    "    return tmp"
   ]
  },
  {
   "cell_type": "code",
   "execution_count": 3,
   "metadata": {},
   "outputs": [],
   "source": [
    "# load models\n",
    "sentiment_model = ktrain.load_predictor('models/sentiment/DistilBERT/distilbert')\n",
    "frame_model = ktrain.load_predictor('models/frame/DistilBERT/distilbert')"
   ]
  },
  {
   "cell_type": "code",
   "execution_count": 4,
   "metadata": {},
   "outputs": [
    {
     "data": {
      "text/html": [],
      "text/plain": [
       "<IPython.core.display.HTML object>"
      ]
     },
     "metadata": {},
     "output_type": "display_data"
    },
    {
     "data": {
      "text/html": [],
      "text/plain": [
       "<IPython.core.display.HTML object>"
      ]
     },
     "metadata": {},
     "output_type": "display_data"
    },
    {
     "name": "stdout",
     "output_type": "stream",
     "text": [
      "\n",
      "- - - - - - - - - - - - - - - -\n",
      "articles/dummy article 1\n",
      "\n",
      "Sentiment: 72.4%\n",
      "\n",
      "- - - - - - - - - - - - - - - -\n",
      "\n",
      "Economic frame: 86.2%\n",
      "Health frame: 0.0%\n",
      "Environment frame: 13.8%\n",
      "\n",
      "- - - - - - - - - - - - - - - -\n",
      "\n"
     ]
    },
    {
     "data": {
      "text/html": [],
      "text/plain": [
       "<IPython.core.display.HTML object>"
      ]
     },
     "metadata": {},
     "output_type": "display_data"
    },
    {
     "data": {
      "text/html": [],
      "text/plain": [
       "<IPython.core.display.HTML object>"
      ]
     },
     "metadata": {},
     "output_type": "display_data"
    },
    {
     "name": "stdout",
     "output_type": "stream",
     "text": [
      "\n",
      "- - - - - - - - - - - - - - - -\n",
      "articles/dummy article 2\n",
      "\n",
      "Sentiment: 0.0%\n",
      "\n",
      "- - - - - - - - - - - - - - - -\n",
      "\n",
      "Economic frame: 25.0%\n",
      "Health frame: 75.0%\n",
      "Environment frame: 0.0%\n",
      "\n",
      "- - - - - - - - - - - - - - - -\n",
      "\n"
     ]
    }
   ],
   "source": [
    "# predict\n",
    "files = glob.glob('articles/*')\n",
    "\n",
    "for file in files:\n",
    "    article = open(file,'r').read()\n",
    "    s_score, eco_score, hea_score, env_score = analyse(article)\n",
    "    print('\\n- - - - - - - - - - - - - - - -\\n{}\\n'.format(file))\n",
    "    print('Sentiment: {}%'.format(s_score))\n",
    "    print('\\n- - - - - - - - - - - - - - - -\\n')\n",
    "    print('Economic frame: {}%\\nHealth frame: {}%\\nEnvironment frame: {}%'.format(eco_score, hea_score, env_score))\n",
    "    print('\\n- - - - - - - - - - - - - - - -\\n')"
   ]
  }
 ],
 "metadata": {
  "kernelspec": {
   "display_name": "Python 3",
   "language": "python",
   "name": "python3"
  },
  "language_info": {
   "codemirror_mode": {
    "name": "ipython",
    "version": 3
   },
   "file_extension": ".py",
   "mimetype": "text/x-python",
   "name": "python",
   "nbconvert_exporter": "python",
   "pygments_lexer": "ipython3",
   "version": "3.6.9"
  }
 },
 "nbformat": 4,
 "nbformat_minor": 4
}
