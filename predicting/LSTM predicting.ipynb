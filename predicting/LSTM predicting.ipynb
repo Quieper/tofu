{
 "cells": [
  {
   "cell_type": "code",
   "execution_count": 1,
   "metadata": {},
   "outputs": [
    {
     "name": "stderr",
     "output_type": "stream",
     "text": [
      "Using TensorFlow backend.\n",
      "unable to import 'smart_open.gcs', disabling that module\n"
     ]
    }
   ],
   "source": [
    "import pandas as pd\n",
    "import numpy as np\n",
    "import glob\n",
    "import keras\n",
    "import gensim\n",
    "import string\n",
    "from keras.models import load_model"
   ]
  },
  {
   "cell_type": "code",
   "execution_count": 2,
   "metadata": {},
   "outputs": [],
   "source": [
    "# return the predicted labels\n",
    "def analyse(article):\n",
    "    paragraphs = [par for par in article.split('\\n') if str(par) != '' and len(par)>75]\n",
    "    txt = [[word for word in par.lower().translate(string.punctuation).split()[:max_sentence_len]] for par in paragraphs]\n",
    "    word_model = gensim.models.Word2Vec(txt, size=100, min_count=1, window=5, iter=100)\n",
    "    x = np.zeros([len(txt), max_sentence_len], dtype=np.int32)\n",
    "    for i, sentence in enumerate(txt):\n",
    "        for t, word in enumerate(sentence):\n",
    "            x[i, t] = word_model.wv.vocab[word].index\n",
    "    sentiments = [round(pred[0],0) for pred in sentiment_model.predict(x)]\n",
    "    frames = [round(pred[0],0) for pred in frame_model.predict(x)]\n",
    "    eco = get_per(frames, 0.)\n",
    "    hea = get_per(frames, 1.)\n",
    "    env = get_per(frames, 2.)\n",
    "    sen_score = get_per(sentiments, 1.)\n",
    "    return sen_score, eco, hea, env\n",
    "\n",
    "# percentage calculater\n",
    "def get_per(l, n):\n",
    "    try:\n",
    "        tmp = round(l.count(n)/len(l)*100,1)\n",
    "    except:\n",
    "        tmp = 0\n",
    "    return tmp"
   ]
  },
  {
   "cell_type": "code",
   "execution_count": 3,
   "metadata": {},
   "outputs": [
    {
     "name": "stderr",
     "output_type": "stream",
     "text": [
      "/home/roguehydra/.local/lib/python3.6/site-packages/tensorflow_core/python/framework/indexed_slices.py:433: UserWarning: Converting sparse IndexedSlices to a dense Tensor of unknown shape. This may consume a large amount of memory.\n",
      "  \"Converting sparse IndexedSlices to a dense Tensor of unknown shape. \"\n",
      "/home/roguehydra/.local/lib/python3.6/site-packages/tensorflow_core/python/framework/indexed_slices.py:433: UserWarning: Converting sparse IndexedSlices to a dense Tensor of unknown shape. This may consume a large amount of memory.\n",
      "  \"Converting sparse IndexedSlices to a dense Tensor of unknown shape. \"\n"
     ]
    }
   ],
   "source": [
    "# load model\n",
    "sentiment_model = load_model('models/sentiment/LSTM/lstm.h5')\n",
    "frame_model = load_model('models/frame/LSTM/lstm.h5')"
   ]
  },
  {
   "cell_type": "code",
   "execution_count": 5,
   "metadata": {},
   "outputs": [
    {
     "name": "stdout",
     "output_type": "stream",
     "text": [
      "\n",
      "- - - - - - - - - - - - - - - -\n",
      "articles/dummy article 1\n",
      "\n",
      "Sentiment: 69.0%\n",
      "\n",
      "- - - - - - - - - - - - - - - -\n",
      "\n",
      "Economic frame: 24.1%\n",
      "Health frame: 51.7%\n",
      "Environment frame: 24.1%\n",
      "\n",
      "- - - - - - - - - - - - - - - -\n",
      "\n",
      "\n",
      "- - - - - - - - - - - - - - - -\n",
      "articles/dummy article 2\n",
      "\n",
      "Sentiment: 50.0%\n",
      "\n",
      "- - - - - - - - - - - - - - - -\n",
      "\n",
      "Economic frame: 75.0%\n",
      "Health frame: 25.0%\n",
      "Environment frame: 0.0%\n",
      "\n",
      "- - - - - - - - - - - - - - - -\n",
      "\n"
     ]
    }
   ],
   "source": [
    "# predict\n",
    "files = glob.glob('articles/*')\n",
    "max_sentence_len = 40\n",
    "for file in files:\n",
    "    article = open(file,'r').read()\n",
    "    s_score, eco_score, hea_score, env_score = analyse(article)\n",
    "    print('\\n- - - - - - - - - - - - - - - -\\n{}\\n'.format(file))\n",
    "    print('Sentiment: {}%'.format(s_score))\n",
    "    print('\\n- - - - - - - - - - - - - - - -\\n')\n",
    "    print('Economic frame: {}%\\nHealth frame: {}%\\nEnvironment frame: {}%'.format(eco_score, hea_score, env_score))\n",
    "    print('\\n- - - - - - - - - - - - - - - -\\n')"
   ]
  }
 ],
 "metadata": {
  "kernelspec": {
   "display_name": "Python 3",
   "language": "python",
   "name": "python3"
  },
  "language_info": {
   "codemirror_mode": {
    "name": "ipython",
    "version": 3
   },
   "file_extension": ".py",
   "mimetype": "text/x-python",
   "name": "python",
   "nbconvert_exporter": "python",
   "pygments_lexer": "ipython3",
   "version": "3.6.9"
  }
 },
 "nbformat": 4,
 "nbformat_minor": 4
}
