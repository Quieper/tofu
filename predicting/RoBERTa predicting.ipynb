{
 "cells": [
  {
   "cell_type": "code",
   "execution_count": 1,
   "metadata": {},
   "outputs": [],
   "source": [
    "from simpletransformers.classification import ClassificationModel\n",
    "import pandas as pd\n",
    "import glob"
   ]
  },
  {
   "cell_type": "code",
   "execution_count": 2,
   "metadata": {},
   "outputs": [],
   "source": [
    "# return the predicted labels\n",
    "def analyse(article):\n",
    "    paragraphs = [par for par in article.split('\\n') if str(par) != '' and len(par)>75]\n",
    "    sen, raw_sen = sentiment_model.predict(paragraphs)\n",
    "    frame, raw_frame = frame_model.predict(paragraphs)\n",
    "    eco, hea, env = get_credible(raw_frame, frame)\n",
    "    sen_score = round(sum(sen)/len(sen)*100,1)\n",
    "    return sen_score, eco, hea, env\n",
    "\n",
    "# returns the frame scores for confident predictions only\n",
    "def get_credible(raw_f, f):\n",
    "    cred = [f[i] for i in range(len(f)) if raw_f[i][f[i]] > 2]\n",
    "    eco = get_per(cred, 0)\n",
    "    hea = get_per(cred, 1)\n",
    "    env = get_per(cred, 2)\n",
    "    return eco, hea, env\n",
    "\n",
    "# percentage calculater - probably redundant and more easy to do\n",
    "def get_per(l, n):\n",
    "    try:\n",
    "        tmp = round(l.count(n)/len(l)*100,1)\n",
    "    except:\n",
    "        tmp = 0\n",
    "    return tmp"
   ]
  },
  {
   "cell_type": "code",
   "execution_count": 4,
   "metadata": {},
   "outputs": [],
   "source": [
    "# load models\n",
    "sentiment_model = ClassificationModel(\n",
    "    \"roberta\",\n",
    "    \"models/sentiment/RoBERTa/outputs/\",\n",
    "    use_cuda=False\n",
    ")\n",
    "\n",
    "frame_model = ClassificationModel(\n",
    "    \"roberta\",\n",
    "    \"models/frame/RoBERTa/outputs/\",\n",
    "    use_cuda=False\n",
    ")"
   ]
  },
  {
   "cell_type": "code",
   "execution_count": 6,
   "metadata": {},
   "outputs": [
    {
     "data": {
      "application/vnd.jupyter.widget-view+json": {
       "model_id": "2ddba5dfeeb44c92a461aa23e65817e5",
       "version_major": 2,
       "version_minor": 0
      },
      "text/plain": [
       "HBox(children=(FloatProgress(value=0.0, max=29.0), HTML(value='')))"
      ]
     },
     "metadata": {},
     "output_type": "display_data"
    },
    {
     "name": "stdout",
     "output_type": "stream",
     "text": [
      "\n"
     ]
    },
    {
     "data": {
      "application/vnd.jupyter.widget-view+json": {
       "model_id": "7df2a5a8358c43c7b3953fddf1bf4cfd",
       "version_major": 2,
       "version_minor": 0
      },
      "text/plain": [
       "HBox(children=(FloatProgress(value=0.0, max=4.0), HTML(value='')))"
      ]
     },
     "metadata": {},
     "output_type": "display_data"
    },
    {
     "name": "stdout",
     "output_type": "stream",
     "text": [
      "\n"
     ]
    },
    {
     "data": {
      "application/vnd.jupyter.widget-view+json": {
       "model_id": "d2b5d3eb84304ebead3452cd45a1e317",
       "version_major": 2,
       "version_minor": 0
      },
      "text/plain": [
       "HBox(children=(FloatProgress(value=0.0, max=29.0), HTML(value='')))"
      ]
     },
     "metadata": {},
     "output_type": "display_data"
    },
    {
     "name": "stdout",
     "output_type": "stream",
     "text": [
      "\n"
     ]
    },
    {
     "data": {
      "application/vnd.jupyter.widget-view+json": {
       "model_id": "e22bb420727241ad9442d31282a6f9c1",
       "version_major": 2,
       "version_minor": 0
      },
      "text/plain": [
       "HBox(children=(FloatProgress(value=0.0, max=4.0), HTML(value='')))"
      ]
     },
     "metadata": {},
     "output_type": "display_data"
    },
    {
     "name": "stdout",
     "output_type": "stream",
     "text": [
      "\n",
      "\n",
      "- - - - - - - - - - - - - - - -\n",
      "articles/dummy article 1\n",
      "\n",
      "Sentiment: 62.1%\n",
      "\n",
      "- - - - - - - - - - - - - - - -\n",
      "\n",
      "Economic frame: 82.8%\n",
      "Health frame: 0.0%\n",
      "Environment frame: 17.2%\n",
      "\n",
      "- - - - - - - - - - - - - - - -\n",
      "\n"
     ]
    },
    {
     "data": {
      "application/vnd.jupyter.widget-view+json": {
       "model_id": "855bffa8814649cd8c800b4308e70dcf",
       "version_major": 2,
       "version_minor": 0
      },
      "text/plain": [
       "HBox(children=(FloatProgress(value=0.0, max=4.0), HTML(value='')))"
      ]
     },
     "metadata": {},
     "output_type": "display_data"
    },
    {
     "name": "stdout",
     "output_type": "stream",
     "text": [
      "\n"
     ]
    },
    {
     "data": {
      "application/vnd.jupyter.widget-view+json": {
       "model_id": "aa9dfdbd17b54a30a6a9c86ff927fd0e",
       "version_major": 2,
       "version_minor": 0
      },
      "text/plain": [
       "HBox(children=(FloatProgress(value=0.0, max=1.0), HTML(value='')))"
      ]
     },
     "metadata": {},
     "output_type": "display_data"
    },
    {
     "name": "stdout",
     "output_type": "stream",
     "text": [
      "\n"
     ]
    },
    {
     "data": {
      "application/vnd.jupyter.widget-view+json": {
       "model_id": "6ac8714221e8453e9df34e94ec6981da",
       "version_major": 2,
       "version_minor": 0
      },
      "text/plain": [
       "HBox(children=(FloatProgress(value=0.0, max=4.0), HTML(value='')))"
      ]
     },
     "metadata": {},
     "output_type": "display_data"
    },
    {
     "name": "stdout",
     "output_type": "stream",
     "text": [
      "\n"
     ]
    },
    {
     "data": {
      "application/vnd.jupyter.widget-view+json": {
       "model_id": "40f65af53a214fac9be790d02225c6f7",
       "version_major": 2,
       "version_minor": 0
      },
      "text/plain": [
       "HBox(children=(FloatProgress(value=0.0, max=1.0), HTML(value='')))"
      ]
     },
     "metadata": {},
     "output_type": "display_data"
    },
    {
     "name": "stdout",
     "output_type": "stream",
     "text": [
      "\n",
      "\n",
      "- - - - - - - - - - - - - - - -\n",
      "articles/dummy article 2\n",
      "\n",
      "Sentiment: 0.0%\n",
      "\n",
      "- - - - - - - - - - - - - - - -\n",
      "\n",
      "Economic frame: 25.0%\n",
      "Health frame: 75.0%\n",
      "Environment frame: 0.0%\n",
      "\n",
      "- - - - - - - - - - - - - - - -\n",
      "\n"
     ]
    }
   ],
   "source": [
    "# predict\n",
    "files = glob.glob('articles/*')\n",
    "\n",
    "for file in files:\n",
    "    article = open(file,'r').read()\n",
    "    s_score, eco_score, hea_score, env_score = analyse(article)\n",
    "    print('\\n- - - - - - - - - - - - - - - -\\n{}\\n'.format(file))\n",
    "    print('Sentiment: {}%'.format(s_score))\n",
    "    print('\\n- - - - - - - - - - - - - - - -\\n')\n",
    "    print('Economic frame: {}%\\nHealth frame: {}%\\nEnvironment frame: {}%'.format(eco_score, hea_score, env_score))\n",
    "    print('\\n- - - - - - - - - - - - - - - -\\n')"
   ]
  }
 ],
 "metadata": {
  "kernelspec": {
   "display_name": "Python 3",
   "language": "python",
   "name": "python3"
  },
  "language_info": {
   "codemirror_mode": {
    "name": "ipython",
    "version": 3
   },
   "file_extension": ".py",
   "mimetype": "text/x-python",
   "name": "python",
   "nbconvert_exporter": "python",
   "pygments_lexer": "ipython3",
   "version": "3.6.9"
  }
 },
 "nbformat": 4,
 "nbformat_minor": 4
}
