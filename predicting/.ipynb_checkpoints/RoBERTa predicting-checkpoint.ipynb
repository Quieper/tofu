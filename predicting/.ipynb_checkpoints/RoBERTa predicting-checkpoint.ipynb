{
 "cells": [
  {
   "cell_type": "code",
   "execution_count": 1,
   "metadata": {},
   "outputs": [],
   "source": [
    "from simpletransformers.classification import ClassificationModel\n",
    "import pandas as pd\n",
    "import glob"
   ]
  },
  {
   "cell_type": "code",
   "execution_count": 2,
   "metadata": {},
   "outputs": [],
   "source": [
    "# return the predicted labels\n",
    "def analyse(article):\n",
    "    paragraphs = [par for par in article.split('\\n') if str(par) != '' and len(par)>75]\n",
    "    sen, raw_sen = sentiment_model.predict(paragraphs)\n",
    "    frame, raw_frame = frame_model.predict(paragraphs)\n",
    "    eco, hea, env = get_credible(raw_frame, frame)\n",
    "    sen_score = round(sum(sen)/len(sen)*100,1)\n",
    "    return sen_score, eco, hea, env\n",
    "\n",
    "# returns the frame scores for confident predictions only\n",
    "def get_credible(raw_f, f):\n",
    "    cred = [f[i] for i in range(len(f)) if raw_f[i][f[i]] > 2]\n",
    "    eco = get_per(cred, 0)\n",
    "    hea = get_per(cred, 1)\n",
    "    env = get_per(cred, 2)\n",
    "    return eco, hea, env\n",
    "\n",
    "# percentage calculater - probably redundant and more easy to do\n",
    "def get_per(l, n):\n",
    "    try:\n",
    "        tmp = round(l.count(n)/len(l)*100,1)\n",
    "    except:\n",
    "        tmp = 0\n",
    "    return tmp"
   ]
  },
  {
   "cell_type": "code",
   "execution_count": null,
   "metadata": {},
   "outputs": [],
   "source": [
    "# load models\n",
    "sentiment_model = ClassificationModel(\n",
    "    \"roberta\",\n",
    "    \"models/sentiment/RoBERTa/outputs/\",\n",
    "    use_cuda=False\n",
    ")\n",
    "\n",
    "frame_model = ClassificationModel(\n",
    "    \"roberta\",\n",
    "    \"models/frame/RoBERTa/outputs/\",\n",
    "    use_cuda=False\n",
    ")"
   ]
  },
  {
   "cell_type": "code",
   "execution_count": null,
   "metadata": {},
   "outputs": [],
   "source": [
    "# predict\n",
    "files = glob.glob('articles/*')\n",
    "\n",
    "for file in files:\n",
    "    article = open(file,'r').read()\n",
    "    s_score, eco_score, hea_score, env_score = analyse(article)\n",
    "    print('\\n- - - - - - - - - - - - - - - -\\n{}\\n'.format(file))\n",
    "    print('Sentiment: {}%'.format(s_score))\n",
    "    print('\\n- - - - - - - - - - - - - - - -\\n')\n",
    "    print('Economic frame: {}%\\nHealth frame: {}%\\nEnvironment frame: {}%'.format(, eco_score, hea_score, env_score))\n",
    "    print('\\n- - - - - - - - - - - - - - - -\\n')"
   ]
  }
 ],
 "metadata": {
  "kernelspec": {
   "display_name": "Python 3",
   "language": "python",
   "name": "python3"
  },
  "language_info": {
   "codemirror_mode": {
    "name": "ipython",
    "version": 3
   },
   "file_extension": ".py",
   "mimetype": "text/x-python",
   "name": "python",
   "nbconvert_exporter": "python",
   "pygments_lexer": "ipython3",
   "version": "3.6.9"
  }
 },
 "nbformat": 4,
 "nbformat_minor": 4
}
