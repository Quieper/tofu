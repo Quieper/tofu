{
 "cells": [
  {
   "cell_type": "code",
   "execution_count": 1,
   "metadata": {},
   "outputs": [],
   "source": [
    "import pandas as pd\n",
    "import numpy as np\n",
    "import glob\n",
    "\n",
    "from textblob import TextBlob"
   ]
  },
  {
   "cell_type": "code",
   "execution_count": 2,
   "metadata": {},
   "outputs": [],
   "source": [
    "def frame_count(frame, paragraph):\n",
    "    return sum([1 for word in frame if word in paragraph.lower()])"
   ]
  },
  {
   "cell_type": "code",
   "execution_count": 3,
   "metadata": {},
   "outputs": [],
   "source": [
    "wur = pd.read_excel('Bin of words TOFU software 22-12-19.xlsx')\n",
    "economic = wur.economic[wur.economic.notna()]\n",
    "health = wur.health[wur.health.notna()]\n",
    "environment = wur.environment[wur.environment.notna()]"
   ]
  },
  {
   "cell_type": "code",
   "execution_count": 4,
   "metadata": {},
   "outputs": [],
   "source": [
    "df = pd.read_excel('../data/data frame/Train - clean.xlsx')\n",
    "df = df.drop(['Sentiment', 'Frame', 'Topic'], axis=1)\n",
    "text = list(df.Text)\n",
    "\n",
    "THRESHOLD = 2\n",
    "frames = []\n",
    "for paragraph in text:\n",
    "    eco = frame_count(economic, paragraph)\n",
    "    hea = frame_count(health, paragraph)\n",
    "    env = frame_count(environment, paragraph)\n",
    "    score_matrix = [eco, hea, env]\n",
    "    \n",
    "    weight = max(score_matrix)\n",
    "    most_likely_frame = score_matrix.index(weight)\n",
    "    if weight > THRESHOLD:\n",
    "        if most_likely_frame == 0:\n",
    "            frame = 'economic'\n",
    "        elif most_likely_frame == 1:\n",
    "            frame = 'health'\n",
    "        else:\n",
    "            frame = 'environment'\n",
    "        frames.append(frame)\n",
    "    else:\n",
    "        frames.append(np.nan)\n",
    "df['Frame'] = frames"
   ]
  },
  {
   "cell_type": "code",
   "execution_count": 48,
   "metadata": {},
   "outputs": [],
   "source": [
    "df = df[df.Frame.notna()]\n",
    "df.to_excel('../data/data frame/Train - labels approximated.xlsx')"
   ]
  }
 ],
 "metadata": {
  "kernelspec": {
   "display_name": "Python 3",
   "language": "python",
   "name": "python3"
  },
  "language_info": {
   "codemirror_mode": {
    "name": "ipython",
    "version": 3
   },
   "file_extension": ".py",
   "mimetype": "text/x-python",
   "name": "python",
   "nbconvert_exporter": "python",
   "pygments_lexer": "ipython3",
   "version": "3.6.9"
  }
 },
 "nbformat": 4,
 "nbformat_minor": 4
}
